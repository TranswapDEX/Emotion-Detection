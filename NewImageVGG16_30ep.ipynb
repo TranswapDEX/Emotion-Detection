{
 "cells": [
  {
   "cell_type": "code",
   "execution_count": 1,
   "metadata": {
    "scrolled": true
   },
   "outputs": [
    {
     "name": "stderr",
     "output_type": "stream",
     "text": [
      "Using TensorFlow backend.\n"
     ]
    }
   ],
   "source": [
    "import keras\n",
    "import numpy as np\n",
    "import pandas as pd\n",
    "from keras.preprocessing import image\n",
    "from matplotlib import pyplot as plt"
   ]
  },
  {
   "cell_type": "code",
   "execution_count": 2,
   "metadata": {},
   "outputs": [],
   "source": [
    "local_path = '/Users/blakemyers/Desktop/Jupyter/Project3/P3Model_VGG16_30ep/TrainedModel'\n",
    "model = keras.models.load_model(local_path)"
   ]
  },
  {
   "cell_type": "code",
   "execution_count": 3,
   "metadata": {},
   "outputs": [],
   "source": [
    "def imd(im):\n",
    "    img = image.load_img(im, color_mode = \"grayscale\", target_size=(48, 48))\n",
    "    x = image.img_to_array(img)\n",
    "    x = np.expand_dims(x, axis = 0)\n",
    "    x /= 255\n",
    "    custom = model.predict(x)\n",
    "    if list(custom[0]).index(max(list(custom[0]))) == 0:\n",
    "        print('Anger')\n",
    "    elif list(custom[0]).index(max(list(custom[0]))) == 1:\n",
    "        print('Disgust')\n",
    "    elif list(custom[0]).index(max(list(custom[0]))) == 2:\n",
    "        print('Fear')\n",
    "    elif list(custom[0]).index(max(list(custom[0]))) == 3:\n",
    "        print('Happy')\n",
    "    elif list(custom[0]).index(max(list(custom[0]))) == 4:\n",
    "        print('Sad')\n",
    "    elif list(custom[0]).index(max(list(custom[0]))) == 5:\n",
    "        print('Surprise')\n",
    "    elif list(custom[0]).index(max(list(custom[0]))) == 6:\n",
    "        print('Neutral')"
   ]
  },
  {
   "cell_type": "code",
   "execution_count": 4,
   "metadata": {},
   "outputs": [
    {
     "name": "stdout",
     "output_type": "stream",
     "text": [
      "Sad\n"
     ]
    }
   ],
   "source": [
    "imd(\"/Users/blakemyers/Desktop/Image1.jpg\")"
   ]
  }
 ],
 "metadata": {
  "kernelspec": {
   "display_name": "Python 3",
   "language": "python",
   "name": "python3"
  },
  "language_info": {
   "codemirror_mode": {
    "name": "ipython",
    "version": 3
   },
   "file_extension": ".py",
   "mimetype": "text/x-python",
   "name": "python",
   "nbconvert_exporter": "python",
   "pygments_lexer": "ipython3",
   "version": "3.7.9"
  }
 },
 "nbformat": 4,
 "nbformat_minor": 2
}
