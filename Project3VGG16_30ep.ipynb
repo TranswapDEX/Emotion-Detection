{
 "cells": [
  {
   "cell_type": "code",
   "execution_count": 1,
   "metadata": {},
   "outputs": [
    {
     "name": "stderr",
     "output_type": "stream",
     "text": [
      "Using TensorFlow backend.\n"
     ]
    }
   ],
   "source": [
    "import pandas as pd\n",
    "import numpy as np\n",
    "from keras.models import Sequential\n",
    "from keras.layers.core import Flatten, Dense, Dropout\n",
    "from keras.layers.convolutional import Convolution2D, MaxPooling2D, ZeroPadding2D\n",
    "from keras.optimizers import SGD\n",
    "import cv2\n",
    "import keras\n",
    "from keras.utils import np_utils\n",
    "from keras.utils.np_utils import to_categorical\n",
    "from sklearn.metrics import confusion_matrix\n",
    "import seaborn as sns"
   ]
  },
  {
   "cell_type": "code",
   "execution_count": 2,
   "metadata": {},
   "outputs": [
    {
     "data": {
      "text/html": [
       "<div>\n",
       "<style scoped>\n",
       "    .dataframe tbody tr th:only-of-type {\n",
       "        vertical-align: middle;\n",
       "    }\n",
       "\n",
       "    .dataframe tbody tr th {\n",
       "        vertical-align: top;\n",
       "    }\n",
       "\n",
       "    .dataframe thead th {\n",
       "        text-align: right;\n",
       "    }\n",
       "</style>\n",
       "<table border=\"1\" class=\"dataframe\">\n",
       "  <thead>\n",
       "    <tr style=\"text-align: right;\">\n",
       "      <th></th>\n",
       "      <th>emotion</th>\n",
       "      <th>pixels</th>\n",
       "      <th>Usage</th>\n",
       "    </tr>\n",
       "  </thead>\n",
       "  <tbody>\n",
       "    <tr>\n",
       "      <th>0</th>\n",
       "      <td>0</td>\n",
       "      <td>70 80 82 72 58 58 60 63 54 58 60 48 89 115 121...</td>\n",
       "      <td>Training</td>\n",
       "    </tr>\n",
       "    <tr>\n",
       "      <th>1</th>\n",
       "      <td>0</td>\n",
       "      <td>151 150 147 155 148 133 111 140 170 174 182 15...</td>\n",
       "      <td>Training</td>\n",
       "    </tr>\n",
       "    <tr>\n",
       "      <th>2</th>\n",
       "      <td>2</td>\n",
       "      <td>231 212 156 164 174 138 161 173 182 200 106 38...</td>\n",
       "      <td>Training</td>\n",
       "    </tr>\n",
       "    <tr>\n",
       "      <th>3</th>\n",
       "      <td>4</td>\n",
       "      <td>24 32 36 30 32 23 19 20 30 41 21 22 32 34 21 1...</td>\n",
       "      <td>Training</td>\n",
       "    </tr>\n",
       "    <tr>\n",
       "      <th>4</th>\n",
       "      <td>6</td>\n",
       "      <td>4 0 0 0 0 0 0 0 0 0 0 0 3 15 23 28 48 50 58 84...</td>\n",
       "      <td>Training</td>\n",
       "    </tr>\n",
       "  </tbody>\n",
       "</table>\n",
       "</div>"
      ],
      "text/plain": [
       "   emotion                                             pixels     Usage\n",
       "0        0  70 80 82 72 58 58 60 63 54 58 60 48 89 115 121...  Training\n",
       "1        0  151 150 147 155 148 133 111 140 170 174 182 15...  Training\n",
       "2        2  231 212 156 164 174 138 161 173 182 200 106 38...  Training\n",
       "3        4  24 32 36 30 32 23 19 20 30 41 21 22 32 34 21 1...  Training\n",
       "4        6  4 0 0 0 0 0 0 0 0 0 0 0 3 15 23 28 48 50 58 84...  Training"
      ]
     },
     "execution_count": 2,
     "metadata": {},
     "output_type": "execute_result"
    }
   ],
   "source": [
    "emotion_data = pd.read_csv('/Users/blakemyers/Desktop/fer2013.csv')\n",
    "emotion_data.head()"
   ]
  },
  {
   "cell_type": "code",
   "execution_count": 3,
   "metadata": {},
   "outputs": [],
   "source": [
    "X_train = []\n",
    "y_train = []\n",
    "X_test = []\n",
    "y_test = []\n",
    "for index, row in emotion_data.iterrows():\n",
    "    k = row['pixels'].split(\" \")\n",
    "    if row['Usage'] == 'Training':\n",
    "        X_train.append(np.array(k))\n",
    "        y_train.append(row['emotion'])\n",
    "    elif row['Usage'] == 'PublicTest':\n",
    "        X_test.append(np.array(k))\n",
    "        y_test.append(row['emotion'])"
   ]
  },
  {
   "cell_type": "code",
   "execution_count": 4,
   "metadata": {},
   "outputs": [],
   "source": [
    "X_train = np.array(X_train)\n",
    "y_train = np.array(y_train)\n",
    "X_test = np.array(X_test)\n",
    "y_test = np.array(y_test)\n",
    "\n",
    "X_train = X_train.reshape(X_train.shape[0], 48, 48, 1)\n",
    "X_test = X_test.reshape(X_test.shape[0], 48, 48, 1)\n",
    "\n",
    "y_train= np_utils.to_categorical(y_train, num_classes=7)\n",
    "y_test = np_utils.to_categorical(y_test, num_classes=7)"
   ]
  },
  {
   "cell_type": "code",
   "execution_count": 5,
   "metadata": {},
   "outputs": [],
   "source": [
    "model = Sequential()\n",
    "model.add(ZeroPadding2D((1,1),input_shape=(48,48,1)))\n",
    "model.add(Convolution2D(64, (3, 3), activation=\"relu\"))\n",
    "model.add(ZeroPadding2D((1,1)))\n",
    "model.add(Convolution2D(64, (3, 3), activation=\"relu\"))\n",
    "model.add(MaxPooling2D((2,2), strides=(2,2)))\n",
    "\n",
    "model.add(ZeroPadding2D((1,1)))\n",
    "model.add(Convolution2D(128, (3, 3), activation=\"relu\"))\n",
    "model.add(ZeroPadding2D((1,1)))\n",
    "model.add(Convolution2D(128, (3, 3), activation=\"relu\"))\n",
    "model.add(MaxPooling2D((2,2), strides=(2,2)))\n",
    "\n",
    "model.add(ZeroPadding2D((1,1)))\n",
    "model.add(Convolution2D(256, (3, 3), activation=\"relu\"))\n",
    "model.add(ZeroPadding2D((1,1)))\n",
    "model.add(Convolution2D(256, (3, 3), activation=\"relu\"))\n",
    "model.add(ZeroPadding2D((1,1)))\n",
    "model.add(Convolution2D(256, (3, 3), activation=\"relu\"))\n",
    "model.add(MaxPooling2D((2,2), strides=(2,2)))\n",
    "\n",
    "model.add(ZeroPadding2D((1,1)))\n",
    "model.add(Convolution2D(512, (3, 3), activation=\"relu\"))\n",
    "model.add(ZeroPadding2D((1,1)))\n",
    "model.add(Convolution2D(512, (3, 3), activation=\"relu\"))\n",
    "model.add(ZeroPadding2D((1,1)))\n",
    "model.add(Convolution2D(512, (3, 3), activation=\"relu\"))\n",
    "model.add(MaxPooling2D((2,2), strides=(2,2)))\n",
    "\n",
    "\n",
    "model.add(ZeroPadding2D((1,1)))\n",
    "model.add(Convolution2D(512, (3, 3), activation=\"relu\"))\n",
    "model.add(ZeroPadding2D((1,1)))\n",
    "model.add(Convolution2D(512, (3, 3), activation=\"relu\"))\n",
    "model.add(ZeroPadding2D((1,1)))\n",
    "model.add(Convolution2D(512, (3, 3), activation=\"relu\"))\n",
    "model.add(MaxPooling2D((2,2), strides=(2,2)))\n",
    "\n",
    "model.add(Flatten())\n",
    "model.add(Dense(4096, activation='relu'))\n",
    "model.add(Dropout(0.5))\n",
    "model.add(Dense(4096, activation='relu'))\n",
    "model.add(Dropout(0.5))\n",
    "model.add(Dense(7, activation='softmax'))"
   ]
  },
  {
   "cell_type": "code",
   "execution_count": 6,
   "metadata": {},
   "outputs": [],
   "source": [
    "model.compile(optimizer='sgd',loss='categorical_crossentropy',metrics=['accuracy'])"
   ]
  },
  {
   "cell_type": "code",
   "execution_count": 7,
   "metadata": {},
   "outputs": [
    {
     "name": "stdout",
     "output_type": "stream",
     "text": [
      "Train on 28709 samples, validate on 3589 samples\n",
      "Epoch 1/30\n",
      "28709/28709 [==============================] - 1790s 62ms/step - loss: 1.8235 - accuracy: 0.2468 - val_loss: 1.8497 - val_accuracy: 0.2494\n",
      "Epoch 2/30\n",
      "28709/28709 [==============================] - 1777s 62ms/step - loss: 1.8015 - accuracy: 0.2562 - val_loss: 1.7973 - val_accuracy: 0.2494\n",
      "Epoch 3/30\n",
      "28709/28709 [==============================] - 2318s 81ms/step - loss: 1.6526 - accuracy: 0.3520 - val_loss: 1.6839 - val_accuracy: 0.3385\n",
      "Epoch 4/30\n",
      "28709/28709 [==============================] - 1773s 62ms/step - loss: 1.5092 - accuracy: 0.4149 - val_loss: 1.6369 - val_accuracy: 0.3316\n",
      "Epoch 5/30\n",
      "28709/28709 [==============================] - 1761s 61ms/step - loss: 1.3999 - accuracy: 0.4547 - val_loss: 1.5800 - val_accuracy: 0.3934\n",
      "Epoch 6/30\n",
      "28709/28709 [==============================] - 1750s 61ms/step - loss: 1.2946 - accuracy: 0.5048 - val_loss: 1.3002 - val_accuracy: 0.4940\n",
      "Epoch 7/30\n",
      "28709/28709 [==============================] - 1754s 61ms/step - loss: 1.2070 - accuracy: 0.5442 - val_loss: 1.4258 - val_accuracy: 0.4553\n",
      "Epoch 8/30\n",
      "28709/28709 [==============================] - 1751s 61ms/step - loss: 1.1257 - accuracy: 0.5743 - val_loss: 1.3007 - val_accuracy: 0.5291\n",
      "Epoch 9/30\n",
      "28709/28709 [==============================] - 1750s 61ms/step - loss: 1.0486 - accuracy: 0.6066 - val_loss: 1.4834 - val_accuracy: 0.4603\n",
      "Epoch 10/30\n",
      "28709/28709 [==============================] - 1749s 61ms/step - loss: 0.9726 - accuracy: 0.6378 - val_loss: 1.4040 - val_accuracy: 0.4932\n",
      "Epoch 11/30\n",
      "28709/28709 [==============================] - 1849s 64ms/step - loss: 0.8865 - accuracy: 0.6752 - val_loss: 1.2339 - val_accuracy: 0.5609\n",
      "Epoch 12/30\n",
      "28709/28709 [==============================] - 1753s 61ms/step - loss: 0.7938 - accuracy: 0.7101 - val_loss: 1.3274 - val_accuracy: 0.5456\n",
      "Epoch 13/30\n",
      "28709/28709 [==============================] - 1753s 61ms/step - loss: 0.7086 - accuracy: 0.7409 - val_loss: 1.3388 - val_accuracy: 0.5684\n",
      "Epoch 14/30\n",
      "28709/28709 [==============================] - 1752s 61ms/step - loss: 0.6208 - accuracy: 0.7743 - val_loss: 1.7864 - val_accuracy: 0.5068\n",
      "Epoch 15/30\n",
      "28709/28709 [==============================] - 1758s 61ms/step - loss: 0.5305 - accuracy: 0.8100 - val_loss: 1.8117 - val_accuracy: 0.5210\n",
      "Epoch 16/30\n",
      "28709/28709 [==============================] - 1751s 61ms/step - loss: 0.4676 - accuracy: 0.8332 - val_loss: 1.7125 - val_accuracy: 0.5553\n",
      "Epoch 17/30\n",
      "28709/28709 [==============================] - 1752s 61ms/step - loss: 0.3966 - accuracy: 0.8604 - val_loss: 1.6979 - val_accuracy: 0.5695\n",
      "Epoch 18/30\n",
      "28709/28709 [==============================] - 1750s 61ms/step - loss: 0.3309 - accuracy: 0.8843 - val_loss: 2.3838 - val_accuracy: 0.4531\n",
      "Epoch 19/30\n",
      "28709/28709 [==============================] - 1772s 62ms/step - loss: 0.2784 - accuracy: 0.9056 - val_loss: 2.5891 - val_accuracy: 0.5199\n",
      "Epoch 20/30\n",
      "28709/28709 [==============================] - 1754s 61ms/step - loss: 0.2559 - accuracy: 0.9139 - val_loss: 2.3851 - val_accuracy: 0.4748\n",
      "Epoch 21/30\n",
      "28709/28709 [==============================] - 1755s 61ms/step - loss: 0.2089 - accuracy: 0.9310 - val_loss: 2.0229 - val_accuracy: 0.5893\n",
      "Epoch 22/30\n",
      "28709/28709 [==============================] - 1759s 61ms/step - loss: 0.1737 - accuracy: 0.9437 - val_loss: 2.1259 - val_accuracy: 0.5768\n",
      "Epoch 23/30\n",
      "28709/28709 [==============================] - 1757s 61ms/step - loss: 0.1415 - accuracy: 0.9555 - val_loss: 2.0970 - val_accuracy: 0.5645\n",
      "Epoch 24/30\n",
      "28709/28709 [==============================] - 1757s 61ms/step - loss: 0.1292 - accuracy: 0.9600 - val_loss: 2.1232 - val_accuracy: 0.5854\n",
      "Epoch 25/30\n",
      "28709/28709 [==============================] - 1757s 61ms/step - loss: 0.1203 - accuracy: 0.9602 - val_loss: 2.2525 - val_accuracy: 0.5977\n",
      "Epoch 26/30\n",
      "28709/28709 [==============================] - 1754s 61ms/step - loss: 0.1037 - accuracy: 0.9671 - val_loss: 2.1767 - val_accuracy: 0.5893\n",
      "Epoch 27/30\n",
      "28709/28709 [==============================] - 1760s 61ms/step - loss: 0.0898 - accuracy: 0.9716 - val_loss: 2.4945 - val_accuracy: 0.5801\n",
      "Epoch 28/30\n",
      "28709/28709 [==============================] - 1760s 61ms/step - loss: 0.0938 - accuracy: 0.9702 - val_loss: 2.2698 - val_accuracy: 0.5380\n",
      "Epoch 29/30\n",
      "28709/28709 [==============================] - 1758s 61ms/step - loss: 0.0834 - accuracy: 0.9739 - val_loss: 2.3771 - val_accuracy: 0.5907\n",
      "Epoch 30/30\n",
      "28709/28709 [==============================] - 1756s 61ms/step - loss: 0.0721 - accuracy: 0.9773 - val_loss: 2.4294 - val_accuracy: 0.5963\n"
     ]
    },
    {
     "data": {
      "text/plain": [
       "<keras.callbacks.callbacks.History at 0x7fa4ea689e90>"
      ]
     },
     "execution_count": 7,
     "metadata": {},
     "output_type": "execute_result"
    }
   ],
   "source": [
    "model.fit(X_train,y_train,batch_size=32,epochs=30,verbose=1,validation_data=(X_test, y_test))"
   ]
  },
  {
   "cell_type": "code",
   "execution_count": 9,
   "metadata": {},
   "outputs": [],
   "source": [
    "local_path = '/Users/blakemyers/Desktop/Jupyter/Project3/TrainedModel'\n",
    "model.save(local_path)"
   ]
  },
  {
   "cell_type": "code",
   "execution_count": 11,
   "metadata": {},
   "outputs": [],
   "source": [
    "y_pred=model.predict_classes(X_test)"
   ]
  },
  {
   "cell_type": "code",
   "execution_count": 44,
   "metadata": {},
   "outputs": [],
   "source": [
    "cm = confusion_matrix(y_test.argmax(axis=1), y_pred)"
   ]
  },
  {
   "cell_type": "code",
   "execution_count": 45,
   "metadata": {},
   "outputs": [
    {
     "data": {
      "text/plain": [
       "array([[221,   7,  53,  29,  92,  11,  54],\n",
       "       [ 10,  30,   7,   3,   4,   0,   2],\n",
       "       [ 40,   1, 219,  30, 125,  20,  61],\n",
       "       [ 24,   2,  29, 724,  49,  16,  51],\n",
       "       [ 60,   5,  85,  48, 343,   4, 108],\n",
       "       [ 15,   0,  56,  22,  12, 287,  23],\n",
       "       [ 44,   1,  43,  73, 122,   8, 316]])"
      ]
     },
     "execution_count": 45,
     "metadata": {},
     "output_type": "execute_result"
    }
   ],
   "source": [
    "cm"
   ]
  },
  {
   "cell_type": "code",
   "execution_count": 54,
   "metadata": {},
   "outputs": [
    {
     "data": {
      "image/png": "[encoded data removed]",
      "text/plain": [
       "<Figure size 504x504 with 2 Axes>"
      ]
     },
     "metadata": {
      "needs_background": "light"
     },
     "output_type": "display_data"
    }
   ],
   "source": [
    "from matplotlib import pyplot as plt\n",
    "fig,ax= plt.subplots(figsize=(7,7))\n",
    "sns.heatmap(cm / (cm.astype(np.float).sum(axis=1) + 1e-9), annot=False, ax=ax)\n",
    "ax.set_xlabel('Predicted', size=20);\n",
    "ax.set_ylabel('True', size=20);\n",
    "ax.set_title('Confusion Matrix', size=20);\n",
    "ax.xaxis.set_ticklabels(['Angry','Disgust','Fear','Happy', 'Sad', 'Surprise','Neutral'], size=9); \\\n",
    "ax.yaxis.set_ticklabels(['Angry','Disgust','Fear','Happy', 'Sad', 'Surprise','Neutral'], size=9);"
   ]
  },
  {
   "cell_type": "code",
   "execution_count": 56,
   "metadata": {},
   "outputs": [],
   "source": [
    "model_json = model.to_json()\n",
    "with open(\"model.json\", \"w\") as json_file:\n",
    "    json_file.write(model_json)\n",
    "model.save_weights(\"model.h5\")"
   ]
  },
  {
   "cell_type": "code",
   "execution_count": null,
   "metadata": {},
   "outputs": [],
   "source": []
  }
 ],
 "metadata": {
  "kernelspec": {
   "display_name": "Python 3",
   "language": "python",
   "name": "python3"
  },
  "language_info": {
   "codemirror_mode": {
    "name": "ipython",
    "version": 3
   },
   "file_extension": ".py",
   "mimetype": "text/x-python",
   "name": "python",
   "nbconvert_exporter": "python",
   "pygments_lexer": "ipython3",
   "version": "3.7.9"
  }
 },
 "nbformat": 4,
 "nbformat_minor": 2
}
