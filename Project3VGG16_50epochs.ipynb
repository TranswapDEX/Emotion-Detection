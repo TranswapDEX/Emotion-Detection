{
 "cells": [
  {
   "cell_type": "code",
   "execution_count": 1,
   "metadata": {},
   "outputs": [
    {
     "name": "stderr",
     "output_type": "stream",
     "text": [
      "Using TensorFlow backend.\n"
     ]
    }
   ],
   "source": [
    "import pandas as pd\n",
    "import numpy as np\n",
    "from keras.models import Sequential\n",
    "from keras.layers.core import Flatten, Dense, Dropout\n",
    "from keras.layers.convolutional import Convolution2D, MaxPooling2D, ZeroPadding2D\n",
    "from keras.optimizers import SGD\n",
    "import cv2\n",
    "import keras\n",
    "from keras.utils import np_utils\n",
    "from keras.utils.np_utils import to_categorical\n",
    "from sklearn.metrics import confusion_matrix\n",
    "import seaborn as sns"
   ]
  },
  {
   "cell_type": "code",
   "execution_count": 2,
   "metadata": {},
   "outputs": [
    {
     "data": {
      "text/html": [
       "<div>\n",
       "<style scoped>\n",
       "    .dataframe tbody tr th:only-of-type {\n",
       "        vertical-align: middle;\n",
       "    }\n",
       "\n",
       "    .dataframe tbody tr th {\n",
       "        vertical-align: top;\n",
       "    }\n",
       "\n",
       "    .dataframe thead th {\n",
       "        text-align: right;\n",
       "    }\n",
       "</style>\n",
       "<table border=\"1\" class=\"dataframe\">\n",
       "  <thead>\n",
       "    <tr style=\"text-align: right;\">\n",
       "      <th></th>\n",
       "      <th>emotion</th>\n",
       "      <th>pixels</th>\n",
       "      <th>Usage</th>\n",
       "    </tr>\n",
       "  </thead>\n",
       "  <tbody>\n",
       "    <tr>\n",
       "      <th>0</th>\n",
       "      <td>0</td>\n",
       "      <td>70 80 82 72 58 58 60 63 54 58 60 48 89 115 121...</td>\n",
       "      <td>Training</td>\n",
       "    </tr>\n",
       "    <tr>\n",
       "      <th>1</th>\n",
       "      <td>0</td>\n",
       "      <td>151 150 147 155 148 133 111 140 170 174 182 15...</td>\n",
       "      <td>Training</td>\n",
       "    </tr>\n",
       "    <tr>\n",
       "      <th>2</th>\n",
       "      <td>2</td>\n",
       "      <td>231 212 156 164 174 138 161 173 182 200 106 38...</td>\n",
       "      <td>Training</td>\n",
       "    </tr>\n",
       "    <tr>\n",
       "      <th>3</th>\n",
       "      <td>4</td>\n",
       "      <td>24 32 36 30 32 23 19 20 30 41 21 22 32 34 21 1...</td>\n",
       "      <td>Training</td>\n",
       "    </tr>\n",
       "    <tr>\n",
       "      <th>4</th>\n",
       "      <td>6</td>\n",
       "      <td>4 0 0 0 0 0 0 0 0 0 0 0 3 15 23 28 48 50 58 84...</td>\n",
       "      <td>Training</td>\n",
       "    </tr>\n",
       "  </tbody>\n",
       "</table>\n",
       "</div>"
      ],
      "text/plain": [
       "   emotion                                             pixels     Usage\n",
       "0        0  70 80 82 72 58 58 60 63 54 58 60 48 89 115 121...  Training\n",
       "1        0  151 150 147 155 148 133 111 140 170 174 182 15...  Training\n",
       "2        2  231 212 156 164 174 138 161 173 182 200 106 38...  Training\n",
       "3        4  24 32 36 30 32 23 19 20 30 41 21 22 32 34 21 1...  Training\n",
       "4        6  4 0 0 0 0 0 0 0 0 0 0 0 3 15 23 28 48 50 58 84...  Training"
      ]
     },
     "execution_count": 2,
     "metadata": {},
     "output_type": "execute_result"
    }
   ],
   "source": [
    "emotion_data = pd.read_csv('/Users/blakemyers/Desktop/Jupyter/Project3_data/fer2013.csv')\n",
    "emotion_data.head()"
   ]
  },
  {
   "cell_type": "code",
   "execution_count": 3,
   "metadata": {},
   "outputs": [],
   "source": [
    "X_train = []\n",
    "y_train = []\n",
    "X_test = []\n",
    "y_test = []\n",
    "for index, row in emotion_data.iterrows():\n",
    "    k = row['pixels'].split(\" \")\n",
    "    if row['Usage'] == 'Training':\n",
    "        X_train.append(np.array(k))\n",
    "        y_train.append(row['emotion'])\n",
    "    elif row['Usage'] == 'PublicTest':\n",
    "        X_test.append(np.array(k))\n",
    "        y_test.append(row['emotion'])"
   ]
  },
  {
   "cell_type": "code",
   "execution_count": 4,
   "metadata": {},
   "outputs": [],
   "source": [
    "X_train = np.array(X_train)\n",
    "y_train = np.array(y_train)\n",
    "X_test = np.array(X_test)\n",
    "y_test = np.array(y_test)\n",
    "\n",
    "X_train = X_train.reshape(X_train.shape[0], 48, 48, 1)\n",
    "X_test = X_test.reshape(X_test.shape[0], 48, 48, 1)\n",
    "\n",
    "y_train= np_utils.to_categorical(y_train, num_classes=7)\n",
    "y_test = np_utils.to_categorical(y_test, num_classes=7)"
   ]
  },
  {
   "cell_type": "code",
   "execution_count": 5,
   "metadata": {},
   "outputs": [],
   "source": [
    "model = Sequential()\n",
    "model.add(ZeroPadding2D((1,1),input_shape=(48,48,1)))\n",
    "model.add(Convolution2D(64, (3, 3), activation=\"relu\"))\n",
    "model.add(ZeroPadding2D((1,1)))\n",
    "model.add(Convolution2D(64, (3, 3), activation=\"relu\"))\n",
    "model.add(MaxPooling2D((2,2), strides=(2,2)))\n",
    "\n",
    "model.add(ZeroPadding2D((1,1)))\n",
    "model.add(Convolution2D(128, (3, 3), activation=\"relu\"))\n",
    "model.add(ZeroPadding2D((1,1)))\n",
    "model.add(Convolution2D(128, (3, 3), activation=\"relu\"))\n",
    "model.add(MaxPooling2D((2,2), strides=(2,2)))\n",
    "\n",
    "model.add(ZeroPadding2D((1,1)))\n",
    "model.add(Convolution2D(256, (3, 3), activation=\"relu\"))\n",
    "model.add(ZeroPadding2D((1,1)))\n",
    "model.add(Convolution2D(256, (3, 3), activation=\"relu\"))\n",
    "model.add(ZeroPadding2D((1,1)))\n",
    "model.add(Convolution2D(256, (3, 3), activation=\"relu\"))\n",
    "model.add(MaxPooling2D((2,2), strides=(2,2)))\n",
    "\n",
    "model.add(ZeroPadding2D((1,1)))\n",
    "model.add(Convolution2D(512, (3, 3), activation=\"relu\"))\n",
    "model.add(ZeroPadding2D((1,1)))\n",
    "model.add(Convolution2D(512, (3, 3), activation=\"relu\"))\n",
    "model.add(ZeroPadding2D((1,1)))\n",
    "model.add(Convolution2D(512, (3, 3), activation=\"relu\"))\n",
    "model.add(MaxPooling2D((2,2), strides=(2,2)))\n",
    "\n",
    "\n",
    "model.add(ZeroPadding2D((1,1)))\n",
    "model.add(Convolution2D(512, (3, 3), activation=\"relu\"))\n",
    "model.add(ZeroPadding2D((1,1)))\n",
    "model.add(Convolution2D(512, (3, 3), activation=\"relu\"))\n",
    "model.add(ZeroPadding2D((1,1)))\n",
    "model.add(Convolution2D(512, (3, 3), activation=\"relu\"))\n",
    "model.add(MaxPooling2D((2,2), strides=(2,2)))\n",
    "\n",
    "model.add(Flatten())\n",
    "model.add(Dense(4096, activation='relu'))\n",
    "model.add(Dropout(0.5))\n",
    "model.add(Dense(4096, activation='relu'))\n",
    "model.add(Dropout(0.5))\n",
    "model.add(Dense(7, activation='softmax'))"
   ]
  },
  {
   "cell_type": "code",
   "execution_count": 6,
   "metadata": {},
   "outputs": [],
   "source": [
    "model.compile(optimizer='sgd',loss='categorical_crossentropy',metrics=['accuracy'])"
   ]
  },
  {
   "cell_type": "code",
   "execution_count": 7,
   "metadata": {},
   "outputs": [
    {
     "name": "stdout",
     "output_type": "stream",
     "text": [
      "Train on 28709 samples, validate on 3589 samples\n",
      "Epoch 1/50\n",
      "28709/28709 [==============================] - 2024s 71ms/step - loss: 1.8236 - accuracy: 0.2482 - val_loss: 1.8056 - val_accuracy: 0.2494\n",
      "Epoch 2/50\n",
      "28709/28709 [==============================] - 1963s 68ms/step - loss: 1.7419 - accuracy: 0.2931 - val_loss: 1.7513 - val_accuracy: 0.2970\n",
      "Epoch 3/50\n",
      "28709/28709 [==============================] - 1908s 66ms/step - loss: 1.5667 - accuracy: 0.3826 - val_loss: 1.5653 - val_accuracy: 0.3695\n",
      "Epoch 4/50\n",
      "28709/28709 [==============================] - 1923s 67ms/step - loss: 1.4467 - accuracy: 0.4355 - val_loss: 1.6192 - val_accuracy: 0.4263\n",
      "Epoch 5/50\n",
      "28709/28709 [==============================] - 1955s 68ms/step - loss: 1.3446 - accuracy: 0.4821 - val_loss: 1.5629 - val_accuracy: 0.4188\n",
      "Epoch 6/50\n",
      "28709/28709 [==============================] - 2011s 70ms/step - loss: 1.2531 - accuracy: 0.5223 - val_loss: 1.6308 - val_accuracy: 0.4636\n",
      "Epoch 7/50\n",
      "28709/28709 [==============================] - 1792s 62ms/step - loss: 1.1684 - accuracy: 0.5568 - val_loss: 1.4181 - val_accuracy: 0.4478\n",
      "Epoch 8/50\n",
      "28709/28709 [==============================] - 1760s 61ms/step - loss: 1.0912 - accuracy: 0.5905 - val_loss: 1.2489 - val_accuracy: 0.5291\n",
      "Epoch 9/50\n",
      "28709/28709 [==============================] - 1759s 61ms/step - loss: 1.0079 - accuracy: 0.6215 - val_loss: 1.2323 - val_accuracy: 0.5645\n",
      "Epoch 10/50\n",
      "28709/28709 [==============================] - 1810s 63ms/step - loss: 0.9260 - accuracy: 0.6568 - val_loss: 1.2247 - val_accuracy: 0.5508\n",
      "Epoch 11/50\n",
      "28709/28709 [==============================] - 1914s 67ms/step - loss: 0.8364 - accuracy: 0.6879 - val_loss: 1.2443 - val_accuracy: 0.5520\n",
      "Epoch 12/50\n",
      "28709/28709 [==============================] - 1939s 68ms/step - loss: 0.7500 - accuracy: 0.7233 - val_loss: 1.3487 - val_accuracy: 0.5261\n",
      "Epoch 13/50\n",
      "28709/28709 [==============================] - 1910s 67ms/step - loss: 0.6669 - accuracy: 0.7576 - val_loss: 1.4838 - val_accuracy: 0.5472\n",
      "Epoch 14/50\n",
      "28709/28709 [==============================] - 1800s 63ms/step - loss: 0.5803 - accuracy: 0.7892 - val_loss: 1.6585 - val_accuracy: 0.5570\n",
      "Epoch 15/50\n",
      "28709/28709 [==============================] - 1776s 62ms/step - loss: 0.4973 - accuracy: 0.8234 - val_loss: 1.7166 - val_accuracy: 0.5481\n",
      "Epoch 16/50\n",
      "28709/28709 [==============================] - 1844s 64ms/step - loss: 0.4289 - accuracy: 0.8492 - val_loss: 1.5998 - val_accuracy: 0.5648\n",
      "Epoch 17/50\n",
      "28709/28709 [==============================] - 1818s 63ms/step - loss: 0.3718 - accuracy: 0.8701 - val_loss: 1.9368 - val_accuracy: 0.5444\n",
      "Epoch 18/50\n",
      "28709/28709 [==============================] - 1781s 62ms/step - loss: 0.3092 - accuracy: 0.8931 - val_loss: 1.8527 - val_accuracy: 0.5726\n",
      "Epoch 19/50\n",
      "28709/28709 [==============================] - 1764s 61ms/step - loss: 0.2538 - accuracy: 0.9138 - val_loss: 2.6190 - val_accuracy: 0.4935\n",
      "Epoch 20/50\n",
      "28709/28709 [==============================] - 1761s 61ms/step - loss: 0.2330 - accuracy: 0.9208 - val_loss: 2.1133 - val_accuracy: 0.5472\n",
      "Epoch 21/50\n",
      "28709/28709 [==============================] - 1761s 61ms/step - loss: 0.1847 - accuracy: 0.9383 - val_loss: 2.5324 - val_accuracy: 0.4748\n",
      "Epoch 22/50\n",
      "28709/28709 [==============================] - 1758s 61ms/step - loss: 0.1748 - accuracy: 0.9424 - val_loss: 2.6461 - val_accuracy: 0.3820\n",
      "Epoch 23/50\n",
      "28709/28709 [==============================] - 1759s 61ms/step - loss: 0.1524 - accuracy: 0.9503 - val_loss: 2.0864 - val_accuracy: 0.5848\n",
      "Epoch 24/50\n",
      "28709/28709 [==============================] - 1763s 61ms/step - loss: 0.1243 - accuracy: 0.9607 - val_loss: 2.3427 - val_accuracy: 0.5879\n",
      "Epoch 25/50\n",
      "28709/28709 [==============================] - 1758s 61ms/step - loss: 0.1129 - accuracy: 0.9645 - val_loss: 2.2340 - val_accuracy: 0.5854\n",
      "Epoch 26/50\n",
      "28709/28709 [==============================] - 1757s 61ms/step - loss: 0.0926 - accuracy: 0.9723 - val_loss: 2.9081 - val_accuracy: 0.5341\n",
      "Epoch 27/50\n",
      "28709/28709 [==============================] - 1756s 61ms/step - loss: 0.0863 - accuracy: 0.9739 - val_loss: 2.6224 - val_accuracy: 0.5854\n",
      "Epoch 28/50\n",
      "28709/28709 [==============================] - 1773s 62ms/step - loss: 0.0823 - accuracy: 0.9734 - val_loss: 2.2845 - val_accuracy: 0.5971\n",
      "Epoch 29/50\n",
      "28709/28709 [==============================] - 1766s 62ms/step - loss: 0.0791 - accuracy: 0.9752 - val_loss: 2.2999 - val_accuracy: 0.5851\n",
      "Epoch 30/50\n",
      "28709/28709 [==============================] - 1770s 62ms/step - loss: 0.0791 - accuracy: 0.9750 - val_loss: 5.9364 - val_accuracy: 0.3703\n",
      "Epoch 31/50\n",
      "28709/28709 [==============================] - 1755s 61ms/step - loss: 0.1125 - accuracy: 0.9646 - val_loss: 2.5300 - val_accuracy: 0.5887\n",
      "Epoch 32/50\n",
      "28709/28709 [==============================] - 1748s 61ms/step - loss: 0.0607 - accuracy: 0.9816 - val_loss: 2.6675 - val_accuracy: 0.5893\n",
      "Epoch 33/50\n",
      "28709/28709 [==============================] - 1754s 61ms/step - loss: 0.0611 - accuracy: 0.9807 - val_loss: 2.7145 - val_accuracy: 0.5907\n",
      "Epoch 34/50\n",
      "28709/28709 [==============================] - 1755s 61ms/step - loss: 0.0542 - accuracy: 0.9829 - val_loss: 2.7307 - val_accuracy: 0.6024\n",
      "Epoch 35/50\n",
      "28709/28709 [==============================] - 1754s 61ms/step - loss: 0.0550 - accuracy: 0.9816 - val_loss: 2.6353 - val_accuracy: 0.5857\n",
      "Epoch 36/50\n",
      "28709/28709 [==============================] - 1760s 61ms/step - loss: 0.0556 - accuracy: 0.9820 - val_loss: 2.7305 - val_accuracy: 0.5734\n",
      "Epoch 37/50\n",
      "28709/28709 [==============================] - 1758s 61ms/step - loss: 0.0478 - accuracy: 0.9839 - val_loss: 2.6187 - val_accuracy: 0.5915\n",
      "Epoch 38/50\n",
      "28709/28709 [==============================] - 1753s 61ms/step - loss: 0.0447 - accuracy: 0.9858 - val_loss: 2.8303 - val_accuracy: 0.5876\n",
      "Epoch 39/50\n",
      "28709/28709 [==============================] - 1749s 61ms/step - loss: 0.0389 - accuracy: 0.9873 - val_loss: 3.1168 - val_accuracy: 0.5910\n",
      "Epoch 40/50\n",
      "28709/28709 [==============================] - 1752s 61ms/step - loss: 0.0440 - accuracy: 0.9854 - val_loss: 2.4576 - val_accuracy: 0.5940\n",
      "Epoch 41/50\n",
      "28709/28709 [==============================] - 1754s 61ms/step - loss: 0.0449 - accuracy: 0.9853 - val_loss: 3.0191 - val_accuracy: 0.5954\n",
      "Epoch 42/50\n",
      "28709/28709 [==============================] - 1747s 61ms/step - loss: 0.0325 - accuracy: 0.9888 - val_loss: 2.7042 - val_accuracy: 0.5893\n",
      "Epoch 43/50\n",
      "28709/28709 [==============================] - 1748s 61ms/step - loss: 0.0357 - accuracy: 0.9886 - val_loss: 2.5676 - val_accuracy: 0.5868\n",
      "Epoch 44/50\n",
      "28709/28709 [==============================] - 1745s 61ms/step - loss: 0.0279 - accuracy: 0.9908 - val_loss: 3.1288 - val_accuracy: 0.5879\n",
      "Epoch 45/50\n",
      "28709/28709 [==============================] - 1751s 61ms/step - loss: 0.0268 - accuracy: 0.9908 - val_loss: 2.6786 - val_accuracy: 0.5926\n",
      "Epoch 46/50\n",
      "28709/28709 [==============================] - 1744s 61ms/step - loss: 0.0349 - accuracy: 0.9882 - val_loss: 2.9325 - val_accuracy: 0.5874\n",
      "Epoch 47/50\n",
      "28709/28709 [==============================] - 1748s 61ms/step - loss: 0.0361 - accuracy: 0.9879 - val_loss: 2.8031 - val_accuracy: 0.5843\n",
      "Epoch 48/50\n",
      "28709/28709 [==============================] - 1748s 61ms/step - loss: 0.0356 - accuracy: 0.9884 - val_loss: 2.8452 - val_accuracy: 0.4547\n",
      "Epoch 49/50\n",
      "28709/28709 [==============================] - 1748s 61ms/step - loss: 0.0584 - accuracy: 0.9813 - val_loss: 2.8447 - val_accuracy: 0.5834\n",
      "Epoch 50/50\n",
      "28709/28709 [==============================] - 1781s 62ms/step - loss: 0.0262 - accuracy: 0.9913 - val_loss: 2.9208 - val_accuracy: 0.5848\n"
     ]
    },
    {
     "data": {
      "text/plain": [
       "<keras.callbacks.callbacks.History at 0x7ff2a66a0bd0>"
      ]
     },
     "execution_count": 7,
     "metadata": {},
     "output_type": "execute_result"
    }
   ],
   "source": [
    "model.fit(X_train,y_train,batch_size=32,epochs=50,verbose=1,validation_data=(X_test, y_test))"
   ]
  },
  {
   "cell_type": "code",
   "execution_count": 8,
   "metadata": {},
   "outputs": [],
   "source": [
    "local_path = '/Users/blakemyers/Desktop/Jupyter/Project3/ModelVGG16_50ep'\n",
    "model.save(local_path)"
   ]
  },
  {
   "cell_type": "code",
   "execution_count": 9,
   "metadata": {},
   "outputs": [],
   "source": [
    "y_pred=model.predict_classes(X_test)"
   ]
  },
  {
   "cell_type": "code",
   "execution_count": 10,
   "metadata": {},
   "outputs": [],
   "source": [
    "cm = confusion_matrix(y_test.argmax(axis=1), y_pred)"
   ]
  },
  {
   "cell_type": "code",
   "execution_count": 11,
   "metadata": {},
   "outputs": [
    {
     "data": {
      "text/plain": [
       "array([[259,   9,  57,  23,  65,  12,  42],\n",
       "       [ 15,  29,   5,   3,   3,   0,   1],\n",
       "       [ 69,   3, 209,  17, 104,  26,  68],\n",
       "       [ 35,   3,  30, 691,  48,  26,  62],\n",
       "       [114,   2,  82,  35, 315,   4, 101],\n",
       "       [ 20,   1,  43,  14,   8, 312,  17],\n",
       "       [ 78,   1,  45,  53, 135,  11, 284]])"
      ]
     },
     "execution_count": 11,
     "metadata": {},
     "output_type": "execute_result"
    }
   ],
   "source": [
    "cm"
   ]
  },
  {
   "cell_type": "code",
   "execution_count": 13,
   "metadata": {},
   "outputs": [
    {
     "data": {
      "image/png": "[encoded data removed]",
      "text/plain": [
       "<Figure size 504x504 with 2 Axes>"
      ]
     },
     "metadata": {
      "needs_background": "light"
     },
     "output_type": "display_data"
    }
   ],
   "source": [
    "from matplotlib import pyplot as plt\n",
    "fig,ax= plt.subplots(figsize=(7,7))\n",
    "sns.heatmap(cm / (cm.astype(np.float).sum(axis=1) + 1e-9), annot=False, ax=ax)\n",
    "ax.set_xlabel('Predicted', size=20);\n",
    "ax.set_ylabel('True', size=20);\n",
    "ax.set_title('Confusion Matrix', size=20);\n",
    "ax.xaxis.set_ticklabels(['Angry','Disgust','Fear','Happy', 'Sad', 'Surprise','Neutral'], size=9); \\\n",
    "ax.yaxis.set_ticklabels(['Angry','Disgust','Fear','Happy', 'Sad', 'Surprise','Neutral'], size=9);"
   ]
  },
  {
   "cell_type": "code",
   "execution_count": 14,
   "metadata": {},
   "outputs": [],
   "source": [
    "model_json = model.to_json()\n",
    "with open(\"ModelVGG16_50ep.json\", \"w\") as json_file:\n",
    "    json_file.write(model_json)\n",
    "model.save_weights(\"ModelVGG16_50ep.h5\")"
   ]
  }
 ],
 "metadata": {
  "kernelspec": {
   "display_name": "Python 3",
   "language": "python",
   "name": "python3"
  },
  "language_info": {
   "codemirror_mode": {
    "name": "ipython",
    "version": 3
   },
   "file_extension": ".py",
   "mimetype": "text/x-python",
   "name": "python",
   "nbconvert_exporter": "python",
   "pygments_lexer": "ipython3",
   "version": "3.7.9"
  }
 },
 "nbformat": 4,
 "nbformat_minor": 2
}
